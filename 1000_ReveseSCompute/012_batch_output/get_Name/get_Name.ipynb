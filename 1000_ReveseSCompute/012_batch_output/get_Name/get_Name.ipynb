{
 "cells": [
  {
   "cell_type": "code",
   "execution_count": 2,
   "metadata": {},
   "outputs": [],
   "source": [
    "\n",
    "import ee\n",
    "import os\n",
    "# import geehydro\n",
    "# import folium\n",
    "import numpy as np\n",
    "import pandas as pd\n",
    "import datetime\n",
    "from collections import OrderedDict\n"
   ]
  },
  {
   "cell_type": "markdown",
   "metadata": {},
   "source": [
    "## 分割"
   ]
  },
  {
   "cell_type": "code",
   "execution_count": 4,
   "metadata": {},
   "outputs": [],
   "source": [
    "yDic = [34,29,24,14,1]\n",
    "path = \"./output/106/\"\n",
    "file_x = \"_\"\n",
    "Country = [\"United Kingdom\"]\n",
    "index = 0 "
   ]
  },
  {
   "cell_type": "code",
   "execution_count": 11,
   "metadata": {},
   "outputs": [],
   "source": [
    "df = pd.read_excel(\"centers.xls\")\n",
    "df1 = df.loc[df[\"SOV0NAME\"].isin(Country)][[\"NAMEASCII\",\"wof_id\"]]\n",
    "name_dic = OrderedDict({})\n",
    "for i in range(len(df1)):\n",
    "    city = df1.iloc[i,][\"NAMEASCII\"]\n",
    "    fid = int(df1.iloc[i,][\"wof_id\"])## int not numpy int64\n",
    "    name_dic[city] = fid\n",
    "name_dic = OrderedDict(sorted(name_dic.items(), key=lambda t: t[0]))"
   ]
  },
  {
   "cell_type": "code",
   "execution_count": 19,
   "metadata": {
    "scrolled": true
   },
   "outputs": [
    {
     "name": "stdout",
     "output_type": "stream",
     "text": [
      "101750639 Aberdeen\n",
      "101873467 Ayr\n",
      "101750387 Bath\n",
      "101751931 Belfast\n",
      "1141909171 Birmingham\n",
      "101750583 Blackpool\n",
      "101750305 Bournemouth\n",
      "101750581 Bradford\n",
      "1141906989 Brighton\n",
      "101750389 Bristol\n",
      "101750465 Cambridge\n",
      "101929817 Cardiff\n",
      "101750619 Carlisle\n",
      "101750511 Chester\n",
      "101750449 Coventry\n",
      "101872443 Douglas\n",
      "101854657 Dover\n",
      "1141906975 Dumfries\n",
      "101750641 Dundee\n",
      "101750629 Edinburgh\n",
      "101750383 Exeter\n",
      "101872715 Fort William\n",
      "1141908379 Fox Bay\n",
      "101938103 George Town\n",
      "101753853 Gibraltar\n",
      "101750621 Glasgow\n",
      "890440113 Grand Turk\n",
      "101750635 Greenock\n",
      "1141908377 Grytviken\n",
      "890442097 Hamilton\n",
      "101873667 Inverness\n",
      "101750447 Ipswich\n",
      "101750561 Kingston upon Hull\n",
      "101874209 Kirkwall\n",
      "101750579 Leeds\n",
      "101750485 Leicester\n",
      "101874215 Lerwick\n",
      "1141906971 Lisburn\n",
      "101750547 Liverpool\n",
      "101750367 London\n",
      "101751941 Londonderry\n",
      "101750401 Luton\n",
      "101750525 Manchester\n",
      "101750599 Middlesbrough\n",
      "101750617 Newcastle\n",
      "101750483 Norwich\n",
      "101750491 Nottingham\n",
      "101873819 Omagh\n",
      "101750439 Oxford\n",
      "1141906973 Penzance\n",
      "1141906969 Perth\n",
      "101750461 Peterborough\n",
      "101750297 Plymouth\n",
      "101750307 Portsmouth\n",
      "101750379 Reading\n",
      "1141906979 Scarborough\n",
      "101750529 Sheffield\n",
      "1141906373 Southampton\n",
      "101750371 Southend-on-Sea\n",
      "1141909409 Stanley\n",
      "101750495 Stoke\n",
      "101750611 Sunderland\n",
      "101750431 Swansea\n",
      "101873675 Wick\n",
      "101751641 York\n"
     ]
    }
   ],
   "source": [
    "for i in range(len(name_dic)):\n",
    "    name = list(name_dic)[i]\n",
    "    fid = name_dic[name]\n",
    "    "
   ]
  },
  {
   "cell_type": "markdown",
   "metadata": {},
   "source": [
    "## test program"
   ]
  },
  {
   "cell_type": "code",
   "execution_count": 26,
   "metadata": {},
   "outputs": [],
   "source": [
    "def getBandName(center):\n",
    "    coor = center.getInfo()[\"coordinates\"]\n",
    "    print(\"coordinate: \",coor)\n",
    "    BandLat = np.ceil(coor[1])\n",
    "    left = \"users/zhouzz400/GAIA_2018_lat/GAIA_1985_2018_\"\n",
    "    if BandLat>0:\n",
    "        Bandname = left+\"%02d\"% BandLat\n",
    "        ceilBandname = left+\"%02d\"% (BandLat+1)\n",
    "        floorBandname = left+\"%02d\"% (BandLat-1)\n",
    "    elif BandLat<-1:\n",
    "        Bandname = left+\"%03d\"% BandLat\n",
    "        ceilBandname = left+\"%03d\"% (BandLat+1)\n",
    "        floorBandname = left+\"%03d\"% (BandLat-1)\n",
    "    elif BandLat==0:\n",
    "        Bandname = left+\"%02d\"% BandLat\n",
    "        ceilBandname = left+\"%02d\"% (BandLat+1)\n",
    "        floorBandname = left+\"%03d\"% (BandLat-1)\n",
    "    elif BandLat==-1:\n",
    "        Bandname = left+\"%03d\"% BandLat\n",
    "        ceilBandname = left+\"%02d\"% (BandLat+1)\n",
    "        floorBandname = left+\"%03d\"% (BandLat-1)\n",
    "    print( Bandname,ceilBandname,floorBandname)\n",
    "    return Bandname,ceilBandname,floorBandname"
   ]
  },
  {
   "cell_type": "code",
   "execution_count": 23,
   "metadata": {},
   "outputs": [],
   "source": [
    "import ee\n",
    "os.environ['HTTP_PROXY'] = 'http://127.0.0.1:10809'\n",
    "os.environ['HTTPS_PROXY'] = 'http://127.0.0.1:10809'\n",
    "ee.Initialize()"
   ]
  },
  {
   "cell_type": "code",
   "execution_count": 22,
   "metadata": {},
   "outputs": [
    {
     "data": {
      "text/plain": [
       "('Ayr', 101873467)"
      ]
     },
     "execution_count": 22,
     "metadata": {},
     "output_type": "execute_result"
    }
   ],
   "source": [
    "name = list(name_dic)[1]\n",
    "fid = name_dic[name]\n",
    "name,fid"
   ]
  },
  {
   "cell_type": "code",
   "execution_count": 20,
   "metadata": {},
   "outputs": [],
   "source": [
    "year_dic = {34:1985,33:1986,32:1987,31:1988,\n",
    "            30:1989,29:1990,28:1991,27:1992,26:1993,25:1994,24:1995,23:1996,22:1997,21:1998,\n",
    "            20:1999,19:2000,18:2001,17:2002,16:2003,15:2004,14:2005,13:2006,12:2007,11:2008,\n",
    "            10:2009, 9:2010, 8:2011, 7:2012, 6:2013, 5:2014, 4:2015, 3:2016, 2:2017, 1:2018,} "
   ]
  },
  {
   "cell_type": "code",
   "execution_count": 24,
   "metadata": {},
   "outputs": [],
   "source": [
    "center = ee.Geometry.Point([121.46851393726786, 31.224416065753665])\n",
    "years=[34,24]\n",
    "maxdis=30\n",
    "year = 34"
   ]
  },
  {
   "cell_type": "code",
   "execution_count": 40,
   "metadata": {
    "scrolled": true
   },
   "outputs": [
    {
     "name": "stdout",
     "output_type": "stream",
     "text": [
      "coordinate:  [121.46851393726786, 31.224416065753665]\n",
      "users/zhouzz400/GAIA_2018_lat/GAIA_1985_2018_32 users/zhouzz400/GAIA_2018_lat/GAIA_1985_2018_33 users/zhouzz400/GAIA_2018_lat/GAIA_1985_2018_31\n"
     ]
    }
   ],
   "source": [
    "Bandname,ceilBandname,floorBandname = getBandName(center)\n",
    "GAIA = ee.ImageCollection([Bandname,ceilBandname,floorBandname]).mosaic()\n",
    "\n",
    "df= pd.DataFrame(columns = [\"year\",\"dis\",\"ring_area\",\"water_area\",\"urban_area\",\"dens\"])\n",
    "GAIA_year = GAIA.gte(year)\n",
    "water = ee.Image(\"JRC/GSW1_1/YearlyHistory/\"+str(year_dic[year])).gte(2)\n",
    "\n",
    "buffer = ee.List([])\n",
    "ring = ee.List([])\n",
    "dis = 1000\n",
    "buffer = buffer.add( center.buffer(dis) )\n",
    "ring = ring.add(buffer.get(0))"
   ]
  },
  {
   "cell_type": "code",
   "execution_count": 46,
   "metadata": {},
   "outputs": [
    {
     "data": {
      "text/plain": [
       "2634011.66983116"
      ]
     },
     "execution_count": 46,
     "metadata": {},
     "output_type": "execute_result"
    }
   ],
   "source": [
    "ring.getInfo()\n",
    "ring_urban = GAIA_year.eq(1).clip(ring.get(0))\n",
    "urban_image = ring_urban.multiply(ee.Image.pixelArea())\n",
    "urban_area = ee.Number( urban_image.reduceRegion(**{\"reducer\": ee.Reducer.sum(),\"scale\": 30,\"maxPixels\": 1e9}).get(\"b1\") )\n",
    "urban_area.getInfo()"
   ]
  },
  {
   "cell_type": "code",
   "execution_count": null,
   "metadata": {},
   "outputs": [],
   "source": [
    "def getDensity(center):\n",
    "    Bandname,ceilBandname,floorBandname = getBandName(center)\n",
    "    GAIA = ee.ImageCollection([Bandname,ceilBandname,floorBandname]).mosaic()\n",
    "    #Viz_GAIA = {\"min\": 1, \"max\": 34, \"palette\": ['FFFFFF', 'FF0000']}\n",
    "    # Map.addLayer(GAIA,Viz_GAIA)\n",
    "    df= pd.DataFrame(columns = [\"year\",\"dis\",\"ring_area\",\"water_area\",\"urban_area\",\"dens\"])\n",
    "    for year in years:\n",
    "        print(\"year begin: \"+str(year_dic[year]))\n",
    "        GAIA_year = GAIA.gte(year)\n",
    "        #Viz_year = {\"min\": 0, \"max\": 1, \"palette\": ['FFFFFF', 'FF0000']}\n",
    "        #Map.addLayer(sh_year,Viz_year,\"sh_year\")\n",
    "\n",
    "        water = ee.Image(\"JRC/GSW1_1/YearlyHistory/\"+str(year_dic[year])).gte(2)\n",
    "        ##water = ee.Image(\"JRC/GSW1_1/YearlyHistory/2018\").gte(2)\n",
    "        # Viz_water = {\"min\": 0, \"max\": 1, \"palette\": [\"ffffff\",\"0000ff\"]}\n",
    "        # Map.addLayer(water,Viz_water,\"water\")\n",
    "\n",
    "        # center = ee.Geometry.Point([121.46851393726786, 31.224416065753665])\n",
    "        buffer = []\n",
    "        ring = []\n",
    "        for i in range(maxdis):\n",
    "            dis = 1000*(i+1)\n",
    "            buffer.append( center.buffer(dis) )\n",
    "            if i == 0:\n",
    "                ring.append(buffer[i])\n",
    "\n",
    "            else:\n",
    "                ring.append( buffer[i].symmetricDifference(buffer[i-1]) )\n",
    "\n",
    "            #Map.addLayer(ring[i])\n",
    "            ring_urban = GAIA_year.eq(1).clip(ring[i])\n",
    "            urban_image = ring_urban.multiply(ee.Image.pixelArea())\n",
    "            urban_area = ee.Number( urban_image.reduceRegion(**{\"reducer\": ee.Reducer.sum(),\"scale\": 30,\"maxPixels\": 1e9}).get(\"b1\") )\n",
    "\n",
    "            ring_water = water.eq(1).clip(ring[i])\n",
    "            water_image = ring_water.multiply(ee.Image.pixelArea())\n",
    "            water_area = ee.Number( water_image.reduceRegion(**{\"reducer\": ee.Reducer.sum(),\"scale\": 30,\"maxPixels\": 1e9}).get(\"waterClass\") )\n",
    "\n",
    "            ring_area = ring[i].area()\n",
    "            #print(ring_area.getInfo(),water_area.getInfo(),urban_area.getInfo())\n",
    "           \n",
    "            Denominator = ring_area.subtract( water_area )\n",
    "            dens = urban_area.divide(Denominator).getInfo()\n",
    "            #print(i,dens)\n",
    "            \n",
    "            dic = {\"year\":str(year_dic[year]),\"dis\":dis,\"ring_area\":ring_area.getInfo(),\"water_area\":water_area.getInfo(),\n",
    "                   \"urban_area\":urban_area.getInfo(),\"dens\":dens}\n",
    "            df = df.append(dic,ignore_index=True)\n",
    "            \n",
    "            if dens<=kdens:\n",
    "                print(\"less than \"+str(kdens)+\" in:\"+str(i))\n",
    "                break\n",
    "    return  df"
   ]
  },
  {
   "cell_type": "code",
   "execution_count": null,
   "metadata": {},
   "outputs": [],
   "source": []
  },
  {
   "cell_type": "code",
   "execution_count": null,
   "metadata": {},
   "outputs": [],
   "source": []
  },
  {
   "cell_type": "code",
   "execution_count": null,
   "metadata": {},
   "outputs": [],
   "source": []
  },
  {
   "cell_type": "code",
   "execution_count": 2,
   "metadata": {},
   "outputs": [],
   "source": [
    "df = pd.read_excel(\"centers.xls\")"
   ]
  },
  {
   "cell_type": "markdown",
   "metadata": {},
   "source": [
    "## 选出特定国家的城市"
   ]
  },
  {
   "cell_type": "code",
   "execution_count": 44,
   "metadata": {},
   "outputs": [
    {
     "data": {
      "text/plain": [
       "1178"
      ]
     },
     "execution_count": 44,
     "metadata": {},
     "output_type": "execute_result"
    }
   ],
   "source": [
    "Countrys = [\"China\",\"United States\"]\n",
    "df1 = df.loc[df[\"SOV0NAME\"].isin(Countrys)][[\"NAMEASCII\",\"wof_id\"]]\n",
    "len(df1)"
   ]
  },
  {
   "cell_type": "code",
   "execution_count": 45,
   "metadata": {},
   "outputs": [],
   "source": [
    "city = df1.iloc[1,][\"NAMEASCII\"]"
   ]
  },
  {
   "cell_type": "code",
   "execution_count": 46,
   "metadata": {},
   "outputs": [],
   "source": [
    "name_dic = {}\n",
    "for i in range(len(df1)):\n",
    "    city = df1.iloc[i,][\"NAMEASCII\"]\n",
    "    fid = df1.iloc[i,][\"wof_id\"]\n",
    "    name_dic[city] = fid"
   ]
  },
  {
   "cell_type": "code",
   "execution_count": 47,
   "metadata": {},
   "outputs": [
    {
     "name": "stdout",
     "output_type": "stream",
     "text": [
      "{'Faribault': 85968795, 'Mankato': 85953345, 'Albert Lea': 85969077, 'Willmar': 85953323, 'Brainerd': 85952675, 'Crookston': 85968417, 'Hardin': 85972749, 'Glendive': 85972825, 'Dillon': 85972753, 'Polson': 85972719, 'Devils Lake': 85982371, 'Burley': 85937773, 'Wallace': 1141906267, 'Kennewick': 101729987, 'Centralia': 101730179, 'Glendale': 85917509, 'Safford': 85917391, 'Casa Grande': 85917269, 'Mesa': 85917491, 'Lake Havasu City': 85917415, 'Berkeley': 85921915, 'National City': 85922243, 'Mendocino': 1141906269, 'Paso Robles': 85922313, 'Riverside': 85923345, 'Delano': 85923299, 'San Mateo': 85922431, 'Vallejo': 85922643, 'Glenwood Springs': 85929395, 'Aurora': 85940221, 'Greeley': 85929071, 'Tonopah': 85974973, 'Deming': 85976655, 'Truth or Consequences': 85976585, 'Las Vegas': 85974801, 'Farmington': 85976671, 'Springfield': 85971363, 'Tillamook': 101715925, 'Ontario': 101716235, 'La Grande': 101715803, 'Richfield': 101727989, 'Nephi': 101727673, 'Lander': 101734131, 'Powell': 101733923, 'Paragould': 85920359, 'Iowa City': 85944185, 'Ottumwa': 85944671, 'Spencer': 85943693, 'Ft. Dodge': 85944435, 'Hutchinson': 85945379, 'Kansas City': 1141909161, 'Lawrence': 85945709, 'Garden City': 85946119, 'Manhattan': 85945171, 'Hays': 85945225, 'Goodland': 85945667, 'Independence': 85971449, 'Kirksville': 85971823, 'Kearney': 85973527, 'Grand Island': 85973941, 'Alliance': 85973867, 'Bartlesville': 101714775, 'Enid': 101714905, 'Ardmore': 101714741, 'McAlester': 101715369, 'Stillwater': 101714359, 'Lead': 101722039, 'Slidell': 85948031, 'Lake Charles': 85948165, 'Metairie': 85948743, 'New Iberia': 85948451, 'Bryan': 101725999, 'San Marcos': 101724573, 'Longview': 101730317, 'McAllen': 101723551, 'Harlingen': 101724171, 'Alice': 101723771, 'New Braunfels': 101724649, 'Cleburne': 101725015, 'Brownwood': 101724763, 'Alpine': 101725219, 'Van Horn': 101724621, 'Big Spring': 101725545, 'Vernon': 101725657, 'Childress': 101724091, 'Hereford': 101723963, 'Dalhart': 101724773, 'Texas City': 101724827, 'Pasadena': 85923487, 'Baytown': 101724811, 'Arlington': 1141906273, 'New London': 85930865, 'Stamford': 85930787, 'Waterbury': 85930889, 'New Bedford': 85950367, 'Salem': 101716049, 'Pittsfield': 85950325, 'Montpelier': 85937803, 'Auburn': 85913825, 'Florence': 101721115, 'Winter Haven': 85933301, 'Melbourne': 85932957, 'Homestead': 85933657, 'Sanford': 1141906279, 'Miami Beach': 85933671, 'Coral Springs': 85932415, 'Port Charlotte': 85934069, 'Spring Hill': 85935469, 'Palm Coast': 85933013, 'Palatka': 85932939, 'Leesburg': 85933441, 'Lake City': 85932833, 'Crestview': 85932799, 'Panama City': 85932493, 'Dalton': 85936897, 'Marietta': 85936135, 'Waycross': 85936179, 'La Grange': 85936703, 'Southaven': 85969781, 'Meridian': 85969517, 'Laurel': 85969987, 'Spartanburg': 101721215, 'Orangeburg': 101720859, 'Galesburg': 85938709, 'Joliet': 85940583, 'Cape Girardeau': 85971691, 'Rockford': 85939829, 'Evanston': 85940857, 'Rock Island': 85939657, 'Elgin': 85939801, 'Richmond': 101728675, 'Terre Haute': 85941919, 'Lafayette': 85948377, 'Marion': 85941707, 'South Bend': 85942439, 'New Albany': 85942489, 'Elkhart': 85942259, 'Hopkinsville': 85946963, 'London': 85946959, 'Madisonville': 85947035, 'Rocky Mount': 85980455, 'Salisbury': 85980237, 'Durham': 85980565, 'Lumberton': 85981189, 'Zanesville': 101712719, 'Mansfield': 101712287, 'Bowling Green': 85947335, 'Lancaster': 1141908693, 'Johnson City': 101722757, 'Kingsport': 101722787, 'Columbia': 101720793, 'Barlett': 101722655, 'Blacksburg': 101728705, 'Harrisonburg': 101728609, 'Petersburg': 101728959, 'Hampton': 101728661, 'Sheboygan': 101733397, 'Waukesha': 101733483, 'La Crosse': 101732651, 'Eau Claire': 101732375, 'Tomah': 101732335, 'Janesville': 101732837, 'Appleton': 101732417, 'Parkersburg': 101731687, 'White Sulphur Springs': 101731567, 'Clarksburg': 101731623, 'Dover': 85931481, 'St. Charles': 85972039, 'Annapolis': 85949233, 'Hagerstown': 85949165, 'Paterson': 85975481, 'Saratoga Springs': 85977919, 'Poughkeepsie': 85977835, 'Plattsburg': 85977989, 'Beaver Falls': 101718399, 'Altoona': 101716595, 'Williamsport': 101716809, 'Allentown': 101717925, 'Waterville': 85948869, 'Calais': 85948871, 'Houlton': 85949125, 'Benton Harbor': 85951561, 'Battle Creek': 85951435, 'Bay City': 101724051, 'Alpena': 85950937, 'Iron Mountain': 85950925, 'Ironwood': 85951281, 'Sand Point': 1141906299, 'Hydaburg': 1141906301, 'Mekoryuk': 1141906303, 'Atqasuk': 1141906305, 'Port Heiden': 1141906307, 'Perryville': 1141906309, 'Dillingham': 85915613, 'Goodnews Bay': 1141906313, 'Nyac': 1141906315, 'Tununak': 1141906317, 'Mountain Village': 1141906319, 'Emmonak': 1141906321, 'Kaltag': 1141906323, 'Teller': 1141906325, 'Koyukuk': 1141906327, 'Kobuk': 1141906331, 'Selawik': 1141906333, 'Talkeetna': 85916191, 'Whittier': 1141906335, 'Montana': 1141906337, 'Lake Minchumina': 1141906339, 'Cantwell': 1141906341, 'Gulkana': 1141906343, 'Eagle': 1141906345, 'Nenana': 1141906349, 'Big Delta': 1141906351, 'Allakaket': 1141906353, 'Tanana': 1141906355, 'Yumen': 1141906515, 'Linxia': 890512943, 'Zhuozhou': 1141906517, 'Sanming': 102027189, 'Huizhou': 102027507, 'Chaozhou': 102027705, 'Gyangze': 890513537, 'Dali': 102027671, 'Yangquan': 102026975, 'Shiyan': 1141906537, 'Danjiangkou': 890516103, 'Shashi': 890512935, 'Anlu': 890516819, 'Zixing': 1141906539, 'Deyang': 102027643, 'Tengchong': 1141906541, 'Mengzi': 1141906543, 'Chuxiong': 1141906547, 'Hengshui': 102027557, 'Xuanhua': 890513697, 'Luohe': 102027345, 'Beipiao': 890513489, 'Wafangdian': 890516257, 'Zhucheng': 890513729, 'Hangu': 890517077, 'Xinyi': 1141906549, 'Yangzhou': 102026969, 'Linhai': 102027377, 'Huangyan': 890512453, 'Daan': 890513421, 'Changling': 890516427, 'Tonghua': 1141906551, 'Baishan': 1141906553, 'Yanji': 102027853, 'Ergun Zuoqi': 1141906555, 'Shangdu': 1141906557, 'Orongen Zizhiqi': 1141906559, 'Zalantun': 102027849, 'Wuchuan': 1141906561, 'Hanggin Houqi': 1141906565, 'Anda': 890514645, 'Qinggang': 890512957, 'Angangxi': 1141906567, 'Hulan Ergi': 890512819, 'Qingan': 1141906569, 'Baiquan': 890512969, 'Suileng': 890512955, 'Linkou': 890512967, 'Virginia': 85968439, 'Winona': 85968953, 'Rochester': 85977591, 'Lakeville': 85968479, 'Ely': 85974771, 'Moorhead': 85968969, 'St. Cloud': 85952437, 'Miles City': 85972691, 'Bozeman': 85972647, 'Glasgow': 85972901, 'Dickinson': 85982521, 'Jamestown': 85978825, 'Williston': 85982611, 'Lihue': 85937497, 'Wahiawa': 85937547, 'Wailuku': 85937629, 'Twin Falls': 85937881, 'Caldwell': 85938017, 'Salmon': 85938133, \"Coeur d'Alene\": 85938163, 'Richland': 101729991, 'Bellingham': 101730153, 'Walla Walla': 101730217, 'Aberdeen': 101722223, 'Bremerton': 101730469, 'Everett': 101729883, 'Bullhead City': 85917401, 'Winslow': 1141906827, 'Gila Bend': 85917517, 'Tombstone': 85917185, 'Willcox': 85917189, 'Scottsdale': 1141906829, 'Kingman': 85917409, 'Grand Canyon': 85918667, 'Arcata': 85922795, 'Stockton': 1141906831, 'Barstow': 85923877, 'Victorville': 85923967, 'Visalia': 85922461, 'El Centro': 85922813, 'San Luis Obispo': 85922295, 'Merced': 85921827, 'Yuba City': 85921941, 'Redding': 85923859, 'Santa Rosa': 85922693, 'Oceanside': 85922239, 'Modesto': 85922777, 'Irvine': 85923131, 'Ukiah': 85922569, 'Needles': 85923929, 'Bishop': 85922099, 'Palm Springs': 85923357, 'Santa Maria': 85921777, 'Tulare': 85922465, 'Mt. Shasta': 85922941, 'Crescent City': 85921927, 'Fort Collins': 85929679, 'Pueblo': 85929187, 'Lamar': 85928855, 'Trinidad': 85929549, 'Gunnison': 85929659, 'Durango': 85928939, 'Montrose': 85929385, 'Craig': 85928901, 'Boulder': 85929877, 'Boulder City': 85974805, 'Winnemucca': 85974797, 'Roswell': 85976609, 'Clovis': 85976623, 'Las Cruces': 85976635, 'Hobbs': 85976543, 'Socorro': 85976677, 'Gallup': 85976727, 'Raton': 85976507, 'Tucumcari': 85976517, 'Roseburg': 101715773, 'Pendleton': 101716197, 'John Day': 101716151, 'Grants Pass': 101716039, 'Corvallis': 101715853, 'Albany': 85977967, 'Astoria': 101715747, 'Logan': 101727579, 'Parowan': 101727681, 'Kanab': 101727533, 'Monticello': 101727983, 'Moab': 101727823, 'Price': 101727655, 'Cedar City': 101727685, 'Vernal': 101727933, 'Ogden': 101728033, 'Green River': 101734003, 'Rawlins': 101734107, 'Douglas': 85917171, 'Riverton': 101734127, 'Thermopolis': 101734045, 'Gillette': 101734077, 'Jonesboro': 85920203, 'Texarkana': 1141906835, 'Pine Bluff': 85920639, 'Hot Springs': 85920481, 'Fort Smith': 85921431, 'Fayetteville': 85981411, 'Conway': 85920425, 'El Dorado': 85921503, 'Davenport': 85944193, 'Burlington': 101728319, 'Dubuque': 85943829, 'Waterloo': 85944325, 'Sioux City': 85943555, 'Council Bluffs': 85944293, 'Ames': 85943339, 'Mason City': 85943513, 'Emporia': 85946279, 'Salina': 85946183, 'Dodge City': 85945215, 'Coffeyville': 85946451, 'Poplar Bluff': 85971749, 'Joplin': 85970893, 'St. Joseph': 85970783, 'McCook': 85974495, 'Norfolk': 101728769, 'North Platte': 85973955, 'Sidney': 85974397, 'Scottsbluff': 85974197, 'Chadron': 85973623, 'Lawton': 101714821, 'Norman': 101714727, 'Muskogee': 101715429, 'Ponca City': 101714549, 'Shawnee': 101715019, 'Woodward': 101714777, 'Guymon': 101715009, 'Yankton': 101721739, 'Brookings': 101721911, 'Mitchell': 101721597, 'Mobridge': 101721629, 'Houma': 1141909247, 'Monroe': 85948231, 'Conroe': 101725633, 'Nacogdoches': 101724185, 'Eagle Pass': 101723717, 'Edinburg': 101723563, 'Kingsville': 101724205, 'Port Arthur': 101725143, 'Huntsville': 85913601, 'Killeen': 101725403, 'Lufkin': 101724403, 'Del Rio': 101724307, 'San Angelo': 101723961, 'Sherman': 101725053, 'Beaumont': 101724989, 'Port Lavaca': 101724567, 'Falfurrias': 101725721, 'Beeville': 101723637, 'Fort Stockton': 101723793, 'Pecos': 101723951, 'Dumas': 101725835, 'Denton': 101724431, 'Midland': 101723957, 'Temple': 101725429, 'New Haven': 85930897, 'Lowell': 85950327, 'Worcester': 85950375, 'Manchester': 85975081, 'Newport': 101720579, 'Dothan': 85899531, 'Tuscaloosa': 85914453, 'Gadsden': 85914359, 'Enterprise': 85899527, 'Selma': 85899455, 'Coral Gables': 85933643, 'Cape Coral': 85932617, 'Naples': 85931799, 'Fort Pierce': 85933285, 'Kissimmee': 85932595, 'Titusville': 85932871, 'St. Augustine': 85932455, 'Ocala': 85932433, 'Fort Lauderdale': 85932397, 'Apalachicola': 85933379, 'Vero Beach': 85932725, 'Valdosta': 85936921, 'Athens': 1141906837, 'Macon': 85936517, 'Columbus': 101712381, 'Dublin': 85936481, 'Gulfport': 85834655, 'Hattiesburg': 85969939, 'Tupelo': 85969769, 'Greenville': 85980585, 'Natchez': 85969973, 'Sumter': 101720973, 'Anderson': 101720807, 'Aiken': 101721155, 'Beaufort': 101720693, 'Rock Hill': 101721103, 'Decatur': 85940083, 'Alton': 85940363, 'Quincy': 85938427, 'Urbana': 85938565, 'Bloomington': 85941713, 'Kankakee': 85939977, 'Waukegan': 85938621, 'Carbondale': 85939307, 'Belleville': 85940691, 'Muncie': 85941463, 'Kokomo': 85941761, 'Gary': 85941813, 'Fort Wayne': 85942149, 'Covington': 85947231, 'Paducah': 85947249, 'Owensboro': 85946723, 'Jacksonville': 85932547, 'Goldsboro': 85980603, 'Hickory': 85980449, 'Asheville': 85981171, 'Winston-Salem': 85980715, 'Kitty Hawk': 85981241, 'Akron': 101713359, 'Lima': 101712003, 'Oak Ridge': 101722567, 'Murfreesboro': 101723111, 'Clarksville': 101722759, 'Jackson': 85969693, 'Alexandria': 85948343, 'Fredericksburg': 101728699, 'Roanoke': 101728747, 'Danville': 101728985, 'Winchester': 101729033, 'Bristol': 1141906839, 'Superior': 101732327, 'West Bend': 101732991, 'Fond du Lac': 101733125, 'Oshkosh': 101733459, 'Rhinelander': 101733311, 'Racine': 101732325, 'Marinette': 101733337, 'Wheeling': 101731295, 'Morgantown': 101731747, 'Huntington': 101731553, 'Beckley': 101731665, 'Wilmington': 85980683, 'Cumberland': 85949457, 'Atlantic City': 85975315, 'Newark': 85975279, 'Schenectady': 85977841, 'Binghamton': 85977971, 'Utica': 85978353, 'Watertown': 85978073, 'Niagara Falls': 101736289, 'Elmira': 85977537, 'York': 101717279, 'Johnstown': 101717809, 'Scranton': 101718305, 'State College': 101718127, 'Erie': 101718253, 'Wilkes Barre': 101716955, 'Bar Harbor': 85949085, 'Lewiston': 85937743, 'Presque Isle': 85948901, 'Ann Arbor': 85951859, 'Kalamazoo': 85950985, 'Muskegon': 85951173, 'Flint': 85951927, 'Grand Rapids': 85951337, 'Pontiac': 85952003, 'Cadillac': 85951837, 'Traverse City': 85950881, 'Petoskey': 85951375, 'Escanaba': 85951509, 'Marquette': 85951901, 'Hancock': 85951249, 'Wrangell': 85916111, 'Shishmaref': 1141906857, 'Hoonah': 1141906859, 'Atka': 1141906861, 'Nikolski': 1141906863, 'Karluk': 1141906865, 'False Pass': 1141906867, 'Kivalina': 1141906871, 'Newhalen': 1141906873, 'Pilot Point': 1141906875, 'Chignik': 1141906877, 'King Salmon': 1141906879, 'Quinhagak': 1141906881, 'Aniak': 1141906883, 'Kotlit': 1141906885, 'Unalakleet': 1141906889, 'Koyuk': 1141906891, 'McGrath': 1141906893, 'Hughes': 1141906895, 'Ambler': 1141906897, 'Wales': 1141906899, 'Kotzebue': 85915671, 'Wasilla': 85915581, 'Circle': 1141906901, 'Denali Park': 1141906903, 'Yakutat': 1141906907, 'Homer': 85915739, 'Tanacross': 1141906909, 'Wiseman': 1141906911, 'Longxi': 1141907533, 'Pingliang': 890512941, 'Anxi': 1141907537, 'Minxian': 1141907539, 'Jinchang': 890516779, 'Guide': 1141907541, 'Qinzhou': 102027223, 'Pingxiang': 890512887, 'Yishan': 1141907545, 'Beihai': 102027747, 'Hechi': 1141907547, 'Tongren': 890515745, 'Fengjie': 1141907549, 'Changping': 890513711, 'Shaowu': 890516365, 'Longyan': 1141907551, 'Zhangzhou': 102026913, 'Putian': 102027251, 'Fuan': 890512277, 'Changting': 1141907555, 'Nanping': 102027283, 'Ninde': 102027481, 'Jieshou': 890516283, 'Tongling': 102027099, 'Maanshan': 1141907557, 'Fuyang': 102027613, 'Yangjiang': 102027489, 'Meizhou': 102027317, 'Heyuan': 1141907559, 'Qingyuan': 102027243, 'Zhaoqing': 102026905, 'Lianxian': 890513603, 'Jiangmen': 102027487, 'Maoming': 1141907561, 'Gar': 1141907663, 'Turpan': 890514681, 'Quiemo': 1141907665, 'Koktokay': 1141907667, 'Hancheng': 890511919, 'Weinan': 102027085, 'Shuozhou': 1141907671, 'Xinzhou': 102026989, 'Jincheng': 102027457, 'Jiexiu': 102027463, 'Changzhi': 1141907673, 'Guangshui': 102027599, 'Jingmen': 1141907675, 'Zicheng': 890513819, 'Shishou': 890512931, 'Xiaogan': 102027029, 'Puqi': 890512939, 'Yunxian': 1141907677, 'Jinshi': 890514533, 'Chenzhou': 102027697, 'Zhijiang': 1141907681, 'Xiangtan': 890516213, 'Zigong': 102026875, 'Yaan': 1141907683, 'Langzhong': 890511917, 'Rongzhag': 1141907685, 'Simao': 1141907687, 'Wenshan': 890512919, 'Zhanyi': 1141907689, 'Huize': 1141907691, 'Chengde': 102027945, 'Cangzhou': 102027725, 'Baoding': 102027757, 'Huanghua': 1141907693, 'Dingzhou': 890512235, 'Nangong': 890514937, 'Linqing': 890514485, 'Xiangtai': 890512349, 'Puyang': 890512595, 'Hebi': 102027565, 'Xuchang': 890512927, 'Zhoukou': 890512783, 'Dengzhou': 890515043, 'Tieling': 102027869, 'Chaoyang': 890516163, 'Huanren': 890512905, 'Zhuanghe': 890512917, 'Yishui': 890516289, 'Shanxian': 890512937, 'Pingyi': 890516291, 'Pingdu': 890512597, 'Laiwu': 102027407, 'Buizhou': 102027737, 'Liaocheng': 102027383, 'Rizhao': 102027205, 'Dezhou': 102027641, 'Linchuan': 1141907695, 'Fengcheng': 890512271, 'Jian': 102027491, 'Shangrao': 102026985, 'Jingdezhen': 102027455, 'Taizhou': 102027115, 'Shuyang': 1141907699, 'Lianyungang': 1141907701, 'Lishui': 102027365, 'Jiaojing': 890512951, 'Quzhou': 102027207, 'Fuyu': 890516065, 'Dunhua': 890512601, 'Nongan': 1141907703, 'Taonan': 890514809, 'Liuhe': 890512963, 'Huinan': 890512591, 'Panshi': 890512959, 'Jiaohe': 102027903, 'Linjiang': 102027889, 'Wangqing': 890513699, 'Helong': 890515819, 'Shulan': 890516373, 'Jiutai': 890516147, 'Alxa Zuoqi': 1141907705, 'Linxi': 1141907707, 'Kailu': 1141907709, 'Bairin Zuoqi': 1141907711, 'Yitulihe': 1141907713, 'Yakeshi': 102027855, 'Bugt': 1141907717, 'Wuyuan': 1141907719, 'Bayan Obo': 1141907721, 'Fengzhen': 890516157, 'Suihua': 890513701, 'Shuangyashan': 1141907723, 'Shangzhi': 102027877, 'Fujin': 890512121, 'Yian': 1141907725, 'Tailai': 890516143, 'Longjiang': 890511667, 'Gannan': 102027925, 'Hailun': 890513709, 'Mishan': 890513707, 'Tieli': 890514433, 'Shuangcheng': 890512545, 'Zhaodong': 890516371, 'Lanxi': 890516777, 'Keshan': 1141907727, 'Nancha': 890516145, 'Xinqing': 890512953, 'Hulin': 1141907729, 'Boli': 890513713, 'Ningan': 1141907731, 'Capitol Hill': 1141908371, 'Christiansted': 1141908373, 'Ponce': 101918891, 'Mayaguez': 1141908375, 'Kailua-Kona': 85937433, 'Butte': 1141908491, 'Grand Forks': 85982323, 'Pocatello': 85937925, 'Tacoma': 101730275, 'Yuma': 85917319, 'Prescott': 85917377, 'Long Beach': 85923525, 'Grand Junction': 85929587, 'Carson City': 85974793, 'Carlsbad': 85976665, 'Alamogordo': 85976529, 'Medford': 101715947, 'Klamath Falls': 101715907, 'St. George': 101727617, 'Provo': 101727863, 'Laramie': 101733997, 'Little Rock': 85921265, 'Wichita': 85945871, 'Jefferson City': 85970647, 'Rapid City': 101721605, 'Galveston': 101724261, 'Freeport': 101725157, 'Victoria': 101724833, 'Odessa': 101723959, 'Wichita Falls': 101725325, 'Waco': 101723433, 'Lubbock': 101725261, 'Hartford': 85930819, 'Providence': 101720571, 'Birmingham': 85914465, 'Mobile': 85913749, 'Pensacola': 85933005, 'St. Petersburg': 85931833, 'Biloxi': 85969861, 'Frankfort': 85946789, 'Greensboro': 85980391, 'Dayton': 101712161, 'Virginia Beach': 101728745, 'Madison': 101732721, 'Green Bay': 101732365, 'Trenton': 85975811, 'Lansing': 85951849, 'Gambell': 1141908493, 'Palmer': 85915577, 'Seward': 85915769, 'Jyekundo': 1141908613, 'Liuzhou': 102027369, 'Xingyi': 890512949, 'Anshun': 890515807, 'Zunyi': 102026873, 'Wanzhou': 890512933, 'Huaibei': 102027535, 'Wuhu': 102027059, 'Luan': 1141908617, 'Bengbu': 102027743, 'Anqing': 102027769, 'Foshan': 102027615, 'Nagchu': 1141908629, 'Nyingchi': 1141908631, 'Chamdo': 1141908635, 'Korla': 102026827, 'Kuqa': 890511635, 'Tacheng': 1141908637, 'Shihezi': 890515727, 'Karamay': 1141908639, 'Aksu': 890513771, 'Sanya': 102027187, 'Haikou': 102027577, 'Hanzhong': 102027567, 'Baoji': 1141908641, 'Tongchuan': 102028019, 'Linfen': 102027379, 'Yuci': 102026949, 'Datong': 102027935, 'Jianmen': 102027451, 'Yichang': 102026963, 'Xiantao': 890512889, 'Macheng': 890511711, 'Huangshi': 102027521, 'Zhuzhou': 102026877, 'Yongzhou': 1141908643, 'Yiyang': 102027545, 'Changde': 102027057, 'Shaoyang': 1141908645, 'Leshan': 102027389, 'Panzhihua': 890515763, 'Fulin': 1141908647, 'Guangyuan': 102027493, 'Luzhou': 102027337, 'Yibin': 102026965, 'Zhaotang': 890513543, 'Lijiang': 1141908649, 'Yuxi': 102026891, 'Qinhuangdao': 102027225, 'Langfang': 102027403, 'Zhangjiakou': 102027847, 'Tangshan': 102027111, 'Anyang': 102027815, 'Jiaozuo': 102027473, 'Kaifeng': 102027425, 'Shangqiu': 890512923, 'Pingdingshan': 102027261, 'Xinyang': 890512341, 'Xinxiang': 102026993, 'Luoyang': 102027341, 'Liaoyang': 102027891, 'Dandong': 102027939, 'Yingkow': 102027851, 'Jinzhou': 102027899, 'Fuxin': 890512599, 'Benxi': 890516067, 'Fushun': 102027929, 'Jining': 890516445, 'Weifang': 102027091, 'Taian': 102027127, 'Heze': 102027543, 'Laiyang': 890512945, 'Xinyu': 102026991, 'Ganzhou': 1141908653, 'Jiujiang': 102027435, 'Changzhou': 102027709, 'Zhenjiang': 102026897, 'Nantong': 102027279, 'Jiaxing': 102027471, 'Huzhou': 102027497, 'Shaoxing': 102027169, 'Jinhua': 102027445, 'Liaoyuan': 890512903, 'Tumen': 890514683, 'Siping': 102027873, 'Baicheng': 102027959, 'Wuhai': 102027063, 'Erenhot': 890512593, 'Arxan': 1141908657, 'Manzhouli': 102027887, 'Xilinhot': 890515813, 'Heihe': 102027919, 'Qitaihe': 890516381, 'Yichun': 102026959, 'Hegang': 890515821, 'Nenjiang': 890513705, 'Nehe': 890512961, 'Mudangiang': 102027885, 'Duluth': 85968517, 'Bemidji': 85968949, 'Havre': 85972673, 'Kalispell': 85972773, 'Idaho Falls': 85937963, 'Yakima': 101729963, 'Wenatchee': 101730113, 'Bakersfield': 85923307, 'Oakland': 85921881, 'Chico': 85923179, 'Monterey': 85922611, 'Salinas': 85922603, 'Los Alamos': 85977075, 'Eugene': 101716261, 'Coos Bay': 101716005, 'Bend': 101716033, 'Cody': 101733917, 'Cedar Rapids': 85944253, 'Lincoln': 85973555, 'Abilene': 101724139, 'Brownsville': 101724157, 'Tyler': 101723901, 'Concord': 85975075, 'Key West': 85932821, 'West Palm Beach': 85931945, 'Sarasota': 85932709, 'Daytona Beach': 85932697, 'Gainesville': 85932213, 'Ft. Myers': 85932609, 'Brunswick': 85937005, 'Augusta': 85948863, 'Vicksburg': 85969915, 'Myrtle Beach': 101720677, 'Charleston': 101731793, 'Peoria': 85940007, 'Evansville': 85942147, 'Louisville': 1141908697, 'Lexington': 1141908699, 'Charlotte': 85817091, 'Youngstown': 101712497, 'Canton': 101713301, 'Toledo': 101712039, 'Chattanooga': 101723043, 'Charlottesville': 101728535, 'Lynchburg': 101729021, 'Wausau': 101732523, 'Ithaca': 85978779, 'Harrisburg': 101717693, 'Bangor': 85948899, 'Portland': 101715829, 'Saginaw': 85951083, 'Ketchikan': 85916051, 'Unalaska': 85916059, 'Togiak': 1141908709, 'Red Devil': 1141908711, 'Hooper Bay': 85916005, 'Wainwright': 1141908713, 'Galena': 1141908715, 'Kaktovik': 1141908717, 'Skagway': 1141908719, 'Cordova': 85915567, 'Kenai': 85915751, 'Fort Yukon': 1141908721, 'Xuanzhou': 890516983, 'Zhuhai': 102027037, 'Xianyang': 102027031, 'Xiangfan': 102027039, 'Suining': 890513755, 'Lingyuan': 890512901, 'Weihai': 102027089, 'Yancheng': 102026977, 'Agana': 101734549, 'Arecibo': 101919135, 'Macau': 101946381, 'San Bernardino': 85923951, 'Bridgeport': 85930811, 'Xiamen': 102027043, 'Nanchong': 102027293, 'Neijiang': 102027275, 'Nanyang': 102027277, 'Jinxi': 890512899, 'Yantai': 102026967, 'Zaozhuang': 890512925, 'Suzhou': 890516741, 'Xuzhou': 102026983, 'Wuxi': 102027049, 'Jilin': 102027901, 'International Falls': 85968309, 'St. Paul': 85953191, 'Billings': 85972929, 'Great Falls': 85972763, 'Missoula': 85972703, 'Minot': 85982541, 'Fargo': 85982177, 'Hilo': 85937449, 'Olympia': 101730335, 'Spokane': 101730021, 'Vancouver': 101730071, 'Flagstaff': 85917421, 'Tucson': 85917235, 'Santa Barbara': 85921779, 'Fresno': 85922995, 'Eureka': 85922749, 'Colorado Springs': 85929457, 'Reno': 85974779, 'Elko': 85974785, 'Albuquerque': 85976713, 'Casper': 101734031, 'Topeka': 85945467, 'Tulsa': 101714287, 'Sioux Falls': 101721785, 'Shreveport': 85947819, 'Baton Rouge': 85948205, 'Ft. Worth': 101724443, 'Corpus Christi': 101724325, 'Austin': 101724577, 'Amarillo': 101724103, 'El Paso': 101724863, 'Laredo': 1141909163, 'Montgomery': 85913947, 'Tallahassee': 85933373, 'Orlando': 85933091, 'Savannah': 85936939, 'Indianapolis': 85942569, 'Knoxville': 101722865, 'Baltimore': 85809317, 'Syracuse': 85977785, 'Sault Ste. Marie': 85950967, 'Sitka': 85916107, 'Zhangye': 102026915, 'Wuwei': 1141909217, 'Dunhuang': 1141909219, 'Tianshui': 890514425, 'Dulan': 1141909221, 'Golmud': 1141909223, 'Yulin': 102026939, 'Bose': 890512921, 'Wuzhou': 102027045, 'Lupanshui': 1141909225, 'Quanzhou': 102027215, 'Hefei': 102027561, 'Zhanjiang': 102026911, 'Shaoguan': 102027171, 'Xigaze': 102026787, 'Shache': 890513533, 'Yining': 1141909243, 'Altay': 102026849, 'Shizuishan': 890516261, 'Ankang': 102027011, 'Yueyang': 1141909249, 'Hengyang': 102027553, 'Mianyang': 102027309, 'Xichang': 102027021, 'Baoshan': 1141909251, 'Gejiu': 890516429, 'Shijianzhuang': 102027161, 'Handan': 890515729, 'Anshan': 102027961, 'Dalian': 102027669, 'Qingdao': 102027241, 'Linyi': 102027371, 'Huaiyin': 890516653, 'Wenzhou': 102027067, 'Ningbo': 102027273, 'Tongliao': 102027867, 'Hohhot': 102027913, 'Chifeng': 102027943, 'Ulanhot': 890515815, 'Hailar': 102027923, 'Jiamusi': 102027905, 'Beian': 1141909253, 'Daqing': 102027937, 'Jixi': 102027895, 'Pago Pago': 101734459, 'Helena': 85972711, 'Bismarck': 85982651, 'Boise': 85937923, 'San Jose': 85922347, 'Sacramento': 85922845, 'Santa Fe': 85976697, 'Salt Lake City': 101728075, 'Cheyenne': 101734121, 'Des Moines': 85944061, 'Omaha': 85973483, 'Oklahoma City': 101714461, 'Pierre': 101721649, 'San Antonio': 101724653, 'Raleigh': 85980569, 'Cleveland': 101712563, 'Cincinnati': 101712203, 'Nashville': 1141909337, 'Memphis': 101722645, 'Milwaukee': 101732987, 'Buffalo': 85978023, 'Pittsburgh': 101718805, 'Kodiak': 85915867, 'Cold Bay': 1141909339, 'Bethel': 85915901, 'Point Hope': 1141909341, 'Utqiaġvik': 1108782561, 'Nome': 85915489, 'Valdez': 85915585, 'Juneau': 85915729, 'Fairbanks': 85915635, 'Prudhoe Bay': 85916159, 'Jiayuguan': 102026811, 'Xining': 102027001, 'Guilin': 102027593, 'Huainan': 102027531, 'Shantou': 102027175, 'Lhasa': 102026807, 'Hami': 102026833, 'Hotan': 102026813, 'Kashgar': 102026809, 'Yinchuan': 102026957, 'Qiqihar': 102027881, 'San Juan': 1141909405, 'Shenzhen': 102027165, 'Zibo': 102026921, 'Minneapolis': 85969169, 'Honolulu': 85937601, 'Seattle': 101730401, 'Phoenix': 85917479, 'San Diego': 85922227, 'St. Louis': 85971343, 'New Orleans': 85948111, 'Dallas': 101724385, 'Boston': 85950361, 'Tampa': 85931789, 'Philadelphia': 101718083, 'Detroit': 85951091, 'Anchorage': 85915707, 'Lanzhou': 102027397, 'Nanning': 102027287, 'Guiyang': 102027585, 'Chongqing': 102027689, 'Fuzhou': 102027611, 'Guangzhou': 102027597, 'Dongguan': 102027633, 'Xian': 102027041, 'Taiyuan': 102027117, 'Wuhan': 102027061, 'Changsha': 102027715, 'Kunming': 102027417, 'Zhengzhou': 102026899, 'Shenyeng': 102027875, 'Jinan': 102027459, 'Tianjin': 102027107, 'Nanchang': 102027295, 'Nanjing': 102027291, 'Hangzhou': 102027571, 'Changchun': 102027947, 'Baotou': 102027953, 'Harbin': 102027921, 'San Francisco': 85922583, 'Denver': 85928879, 'Houston': 101725629, 'Miami': 85933669, 'Atlanta': 85936429, 'Chicago': 85940195, 'Urumqi': 102026823, 'Chengdu': 102027703, 'Los Angeles': 85923517, 'Washington, D.C.': 85931779, 'New York': 85977539, 'Beijing': 102027745, 'Shanghai': 102027181, 'Hong Kong': 890437279}"
     ]
    }
   ],
   "source": [
    "print(name_dic,end = \"\")"
   ]
  },
  {
   "cell_type": "markdown",
   "metadata": {},
   "source": [
    "## 查重"
   ]
  },
  {
   "cell_type": "markdown",
   "metadata": {},
   "source": [
    "一个国家内有没有相同的城市名"
   ]
  },
  {
   "cell_type": "code",
   "execution_count": 33,
   "metadata": {},
   "outputs": [
    {
     "data": {
      "text/html": [
       "<div>\n",
       "<style scoped>\n",
       "    .dataframe tbody tr th:only-of-type {\n",
       "        vertical-align: middle;\n",
       "    }\n",
       "\n",
       "    .dataframe tbody tr th {\n",
       "        vertical-align: top;\n",
       "    }\n",
       "\n",
       "    .dataframe thead th {\n",
       "        text-align: right;\n",
       "    }\n",
       "</style>\n",
       "<table border=\"1\" class=\"dataframe\">\n",
       "  <thead>\n",
       "    <tr style=\"text-align: right;\">\n",
       "      <th></th>\n",
       "      <th>OID</th>\n",
       "      <th>SCALERANK</th>\n",
       "      <th>NATSCALE</th>\n",
       "      <th>LABELRANK</th>\n",
       "      <th>FEATURECLA</th>\n",
       "      <th>NAME</th>\n",
       "      <th>NAMEPAR</th>\n",
       "      <th>NAMEALT</th>\n",
       "      <th>DIFFASCII</th>\n",
       "      <th>NAMEASCII</th>\n",
       "      <th>...</th>\n",
       "      <th>name_it</th>\n",
       "      <th>name_ja</th>\n",
       "      <th>name_ko</th>\n",
       "      <th>name_nl</th>\n",
       "      <th>name_pl</th>\n",
       "      <th>name_sv</th>\n",
       "      <th>name_tr</th>\n",
       "      <th>name_vi</th>\n",
       "      <th>wdid_score</th>\n",
       "      <th>ne_id</th>\n",
       "    </tr>\n",
       "  </thead>\n",
       "  <tbody>\n",
       "    <tr>\n",
       "      <th>7172</th>\n",
       "      <td>7172</td>\n",
       "      <td>2</td>\n",
       "      <td>200</td>\n",
       "      <td>1</td>\n",
       "      <td>Admin-1 capital</td>\n",
       "      <td>Wuhan</td>\n",
       "      <td></td>\n",
       "      <td></td>\n",
       "      <td>0</td>\n",
       "      <td>Wuhan</td>\n",
       "      <td>...</td>\n",
       "      <td>Wuhan</td>\n",
       "      <td>武漢市</td>\n",
       "      <td>우한 시</td>\n",
       "      <td>Wuhan</td>\n",
       "      <td>Wuhan</td>\n",
       "      <td>Wuhan</td>\n",
       "      <td>Vuhan</td>\n",
       "      <td>Vũ Hán</td>\n",
       "      <td>4</td>\n",
       "      <td>1159151367</td>\n",
       "    </tr>\n",
       "  </tbody>\n",
       "</table>\n",
       "<p>1 rows × 120 columns</p>\n",
       "</div>"
      ],
      "text/plain": [
       "       OID  SCALERANK  NATSCALE  LABELRANK       FEATURECLA   NAME NAMEPAR  \\\n",
       "7172  7172          2       200          1  Admin-1 capital  Wuhan           \n",
       "\n",
       "     NAMEALT  DIFFASCII NAMEASCII  ...  name_it name_ja  name_ko  name_nl  \\\n",
       "7172                  0     Wuhan  ...    Wuhan     武漢市     우한 시    Wuhan   \n",
       "\n",
       "     name_pl name_sv name_tr name_vi wdid_score       ne_id  \n",
       "7172   Wuhan   Wuhan   Vuhan  Vũ Hán          4  1159151367  \n",
       "\n",
       "[1 rows x 120 columns]"
      ]
     },
     "execution_count": 33,
     "metadata": {},
     "output_type": "execute_result"
    }
   ],
   "source": [
    "df.loc[(df[\"NAMEASCII\"]==\"Wuhan\") & ( df[\"SOV0NAME\"]==\"China\")]"
   ]
  },
  {
   "cell_type": "code",
   "execution_count": 37,
   "metadata": {},
   "outputs": [],
   "source": [
    "for i in range(len(df)):\n",
    "    fid = df.iloc[i,][\"wof_id\"]\n",
    "    a = len(df.loc[(df[\"wof_id\"]==fid)])\n",
    "    if a>1 or :\n",
    "        print(fid)"
   ]
  },
  {
   "cell_type": "code",
   "execution_count": 36,
   "metadata": {},
   "outputs": [
    {
     "name": "stdout",
     "output_type": "stream",
     "text": [
      "Aurora United States\n",
      "Las Vegas United States\n",
      "Springfield United States\n",
      "Kansas City United States\n",
      "Longview United States\n",
      "Pasadena United States\n",
      "Springfield United States\n",
      "Salem United States\n",
      "Montpelier United States\n",
      "Florence United States\n",
      "Richmond United States\n",
      "Lafayette United States\n",
      "Bowling Green United States\n",
      "Springfield United States\n",
      "Lancaster United States\n",
      "Columbia United States\n",
      "St. Charles United States\n",
      "Lancaster United States\n",
      "Bay City United States\n",
      "Oktyabrskiy Russia\n",
      "Dali China\n",
      "Palmas Brazil\n",
      "Deer Lake Canada\n",
      "Mercedes Argentina\n",
      "Rochester United States\n",
      "Ely United States\n",
      "Jamestown United States\n",
      "Montpelier United States\n",
      "Longview United States\n",
      "Aberdeen United States\n",
      "Pasadena United States\n",
      "Albany United States\n",
      "Douglas United States\n",
      "Fayetteville United States\n",
      "Burlington United States\n",
      "St. Charles United States\n",
      "Columbia United States\n",
      "Norfolk United States\n",
      "Aberdeen United States\n",
      "Huntsville United States\n",
      "Bay City United States\n",
      "Albany United States\n",
      "Columbus United States\n",
      "Douglas United States\n",
      "Greenville United States\n",
      "Florence United States\n",
      "Greenville United States\n",
      "Bloomington United States\n",
      "Aurora United States\n",
      "Bloomington United States\n",
      "Bowling Green United States\n",
      "Jacksonville United States\n",
      "Greenville United States\n",
      "Fayetteville United States\n",
      "Jackson United States\n",
      "Alexandria United States\n",
      "Wilmington United States\n",
      "Jamestown United States\n",
      "Lewiston United States\n",
      "Sechura Peru\n",
      "Sechura Peru\n",
      "Middelburg South Africa\n",
      "Sovetsk Russia\n",
      "Rostov Russia\n",
      "Kirov Russia\n",
      "Noginsk Russia\n",
      "Nakhodka Russia\n",
      "Sovetsk Russia\n",
      "Mazatlan Mexico\n",
      "Pingxiang China\n",
      "Fuyang China\n",
      "Bandar Lampung Indonesia\n",
      "Aurangabad India\n",
      "Crato Brazil\n",
      "Deer Lake Canada\n",
      "Windsor Canada\n",
      "Mercedes Argentina\n",
      "Mercedes Argentina\n",
      "Richmond Australia\n",
      "Maryborough Australia\n",
      "Richmond Australia\n",
      "Ely United States\n",
      "Lafayette United States\n",
      "Springfield United States\n",
      "Noginsk Russia\n",
      "Nakhodka Russia\n",
      "Oktyabrskiy Russia\n",
      "Dali China\n",
      "Jining China\n",
      "Jining China\n",
      "Yichun China\n",
      "Lewiston United States\n",
      "Douglas United States\n",
      "Lancaster United States\n",
      "Springfield United States\n",
      "Alexandria United States\n",
      "Huntsville United States\n",
      "Augusta United States\n",
      "Charleston United States\n",
      "Columbus United States\n",
      "Albany United States\n",
      "Portland United States\n",
      "Windsor Canada\n",
      "Maryborough Australia\n",
      "Yichun China\n",
      "Fuyang China\n",
      "Natal Brazil\n",
      "Crato Brazil\n",
      "Palmas Brazil\n",
      "Vila Velha Brazil\n",
      "Rochester United States\n",
      "Suzhou China\n",
      "Aurangabad India\n",
      "Salem United States\n",
      "Kansas City United States\n",
      "Burlington United States\n",
      "Jacksonville United States\n",
      "Columbia United States\n",
      "Wilmington United States\n",
      "Richmond United States\n",
      "Charleston United States\n",
      "Augusta United States\n",
      "Middelburg South Africa\n",
      "Rostov Russia\n",
      "Kirov Russia\n",
      "Yulin China\n",
      "Suzhou China\n",
      "Bandar Lampung Indonesia\n",
      "Yulin China\n",
      "Vila Velha Brazil\n",
      "Natal Brazil\n",
      "Las Vegas United States\n",
      "Portland United States\n",
      "Jackson United States\n",
      "Norfolk United States\n",
      "Mazatlan Mexico\n",
      "Pingxiang China\n"
     ]
    }
   ],
   "source": [
    "for i in range(len(df)):\n",
    "    cityname = df.iloc[i,][\"NAMEASCII\"]\n",
    "    counname = df.iloc[i,][\"SOV0NAME\"]\n",
    "    a = len(df.loc[(df[\"NAMEASCII\"]==cityname) & ( df[\"SOV0NAME\"]==counname)])\n",
    "    if a>1:\n",
    "        print(cityname,counname)"
   ]
  },
  {
   "cell_type": "code",
   "execution_count": null,
   "metadata": {},
   "outputs": [],
   "source": []
  },
  {
   "cell_type": "code",
   "execution_count": null,
   "metadata": {},
   "outputs": [],
   "source": []
  },
  {
   "cell_type": "code",
   "execution_count": null,
   "metadata": {},
   "outputs": [],
   "source": []
  },
  {
   "cell_type": "code",
   "execution_count": null,
   "metadata": {},
   "outputs": [],
   "source": []
  },
  {
   "cell_type": "code",
   "execution_count": 19,
   "metadata": {},
   "outputs": [
    {
     "ename": "ValueError",
     "evalue": "too many values to unpack (expected 2)",
     "output_type": "error",
     "traceback": [
      "\u001b[1;31m---------------------------------------------------------------------------\u001b[0m",
      "\u001b[1;31mValueError\u001b[0m                                Traceback (most recent call last)",
      "\u001b[1;32m<ipython-input-19-fd8246712ad9>\u001b[0m in \u001b[0;36m<module>\u001b[1;34m\u001b[0m\n\u001b[0;32m      1\u001b[0m \u001b[0mname_dic\u001b[0m \u001b[1;33m=\u001b[0m \u001b[1;33m{\u001b[0m\u001b[1;33m}\u001b[0m\u001b[1;33m\u001b[0m\u001b[1;33m\u001b[0m\u001b[0m\n\u001b[0;32m      2\u001b[0m \u001b[1;33m\u001b[0m\u001b[0m\n\u001b[1;32m----> 3\u001b[1;33m \u001b[1;32mfor\u001b[0m \u001b[0mcity\u001b[0m\u001b[1;33m,\u001b[0m\u001b[0mcountry\u001b[0m \u001b[1;32min\u001b[0m \u001b[0mdf1\u001b[0m\u001b[1;33m:\u001b[0m\u001b[1;33m\u001b[0m\u001b[1;33m\u001b[0m\u001b[0m\n\u001b[0m\u001b[0;32m      4\u001b[0m     \u001b[0mname_dic\u001b[0m\u001b[1;33m[\u001b[0m\u001b[0mcity\u001b[0m\u001b[1;33m]\u001b[0m\u001b[1;33m=\u001b[0m\u001b[0mcountry\u001b[0m\u001b[1;33m\u001b[0m\u001b[1;33m\u001b[0m\u001b[0m\n",
      "\u001b[1;31mValueError\u001b[0m: too many values to unpack (expected 2)"
     ]
    }
   ],
   "source": []
  },
  {
   "cell_type": "code",
   "execution_count": null,
   "metadata": {},
   "outputs": [],
   "source": []
  },
  {
   "cell_type": "code",
   "execution_count": 5,
   "metadata": {},
   "outputs": [
    {
     "data": {
      "text/plain": [
       "883     United Kingdom\n",
       "2054     United States\n",
       "Name: SOV0NAME, dtype: object"
      ]
     },
     "execution_count": 5,
     "metadata": {},
     "output_type": "execute_result"
    }
   ],
   "source": [
    "df.loc[df[\"NAMEASCII\"].isin([ \"Bristol\"])][\"SOV0NAME\"]"
   ]
  },
  {
   "cell_type": "code",
   "execution_count": 10,
   "metadata": {},
   "outputs": [],
   "source": [
    "ids =[]\n",
    "countrys = [ \"France\",\"United Kingdom\",\"Japen\",\"China\"]\n",
    "for oid in df.loc[df[\"SOV0NAME\"].isin(countrys)][\"OID\"]:\n",
    "    ids.append(str(oid))"
   ]
  },
  {
   "cell_type": "code",
   "execution_count": 11,
   "metadata": {},
   "outputs": [
    {
     "ename": "NameError",
     "evalue": "name 'names' is not defined",
     "output_type": "error",
     "traceback": [
      "\u001b[1;31m---------------------------------------------------------------------------\u001b[0m",
      "\u001b[1;31mNameError\u001b[0m                                 Traceback (most recent call last)",
      "\u001b[1;32m<ipython-input-11-852d66e446d6>\u001b[0m in \u001b[0;36m<module>\u001b[1;34m\u001b[0m\n\u001b[1;32m----> 1\u001b[1;33m \u001b[0mlen\u001b[0m\u001b[1;33m(\u001b[0m\u001b[0mnames\u001b[0m\u001b[1;33m)\u001b[0m\u001b[1;33m\u001b[0m\u001b[1;33m\u001b[0m\u001b[0m\n\u001b[0m",
      "\u001b[1;31mNameError\u001b[0m: name 'names' is not defined"
     ]
    }
   ],
   "source": [
    "len(names)"
   ]
  },
  {
   "cell_type": "code",
   "execution_count": 12,
   "metadata": {},
   "outputs": [
    {
     "name": "stdout",
     "output_type": "stream",
     "text": [
      "['880', '881', '882', '883', '884', '885', '886', '887', '888', '908', '909', '910', '911', '912', '1216', '1217', '1218', '1219', '1220', '1221', '1287', '1288', '1289', '1290', '1291', '1292', '1293', '1294', '1295', '1296', '1297', '1298', '1299', '1300', '1301', '1302', '1303', '1304', '1305', '1306', '1307', '1308', '1309', '1312', '1313', '1314', '1315', '1316', '1320', '1321', '1322', '1323', '1324', '1325', '1326', '1327', '1328', '1329', '1330', '1331', '1332', '1333', '1786', '2381', '2382', '2383', '2384', '2385', '2386', '2387', '2388', '2389', '2390', '2391', '2392', '2393', '2394', '2395', '2396', '2397', '2398', '2424', '2425', '2434', '2435', '2436', '2437', '2438', '2439', '2440', '2441', '2442', '2526', '3395', '3396', '3397', '3398', '3399', '3400', '3401', '3402', '3403', '3404', '3405', '3406', '3407', '3408', '3409', '3410', '3411', '3412', '3413', '3414', '3415', '3416', '3417', '3418', '3419', '3420', '3421', '3422', '3423', '3424', '3425', '3426', '3427', '3428', '3637', '3638', '3639', '3640', '3643', '3644', '3645', '3646', '3647', '3648', '3649', '3650', '3651', '3652', '3653', '3654', '3655', '3656', '3657', '3658', '3659', '3660', '3661', '3662', '3663', '3664', '3665', '3666', '3667', '3668', '3669', '3670', '3671', '3672', '3673', '3674', '3675', '3676', '3677', '3678', '3679', '3680', '3681', '3682', '3683', '3684', '3685', '3686', '3687', '3688', '3689', '3690', '3691', '3692', '3693', '3694', '3695', '3696', '3697', '3698', '3699', '3700', '3701', '3702', '3703', '3704', '3705', '3710', '3711', '3712', '3713', '3714', '3715', '3716', '3717', '3718', '3719', '3720', '3721', '3722', '3726', '3727', '3728', '3729', '3730', '3731', '3732', '3733', '3734', '3735', '3736', '3737', '3738', '3739', '3740', '3741', '3742', '3743', '3744', '3745', '3746', '3747', '3748', '3749', '3750', '3751', '3752', '3753', '3754', '3755', '4799', '4800', '4801', '4802', '4803', '4920', '4949', '4950', '4951', '4952', '4957', '4958', '5176', '5177', '5178', '5179', '5180', '5181', '5182', '5183', '5184', '5185', '5186', '5187', '5211', '5212', '5213', '5214', '5215', '5216', '5217', '5218', '5219', '5220', '5221', '5222', '5223', '5224', '5225', '5226', '5227', '5228', '5229', '5230', '5231', '5232', '5233', '5234', '5235', '5236', '5237', '5238', '5239', '5240', '5241', '5242', '5243', '5244', '5245', '5246', '5247', '5248', '5249', '5250', '5251', '5252', '5253', '5254', '5255', '5256', '5257', '5258', '5259', '5260', '5261', '5262', '5263', '5264', '5265', '5266', '5267', '5268', '5269', '5270', '5271', '5272', '5273', '5274', '5275', '5276', '5277', '5278', '5279', '5280', '5281', '5282', '5283', '5284', '5285', '5288', '5289', '5290', '5291', '5292', '5293', '5294', '5295', '5296', '5297', '5298', '5299', '5300', '5607', '5819', '5820', '5878', '5879', '5880', '5881', '5882', '5883', '5884', '5885', '6158', '6173', '6177', '6178', '6179', '6180', '6181', '6182', '6183', '6184', '6185', '6186', '6187', '6283', '6284', '6461', '6462', '6463', '6464', '6465', '6466', '6467', '6468', '6469', '6470', '6471', '6472', '6473', '6474', '6475', '6508', '6509', '6510', '6511', '6513', '6514', '6515', '6516', '6517', '6518', '6519', '6520', '6521', '6522', '6523', '6524', '6525', '6526', '6527', '6528', '6529', '6530', '6531', '6537', '6538', '6539', '6540', '6541', '6542', '6543', '6544', '6545', '6827', '6927', '6928', '6929', '6930', '6931', '6955', '6956', '6957', '6958', '6959', '6960', '6962', '7090', '7091', '7104', '7105', '7151', '7152', '7153', '7154', '7155', '7156', '7157', '7170', '7171', '7172', '7173', '7174', '7175', '7176', '7177', '7178', '7179', '7180', '7181', '7183', '7184', '7185', '7245', '7246', '7265', '7273', '7278', '7288']"
     ]
    }
   ],
   "source": [
    "print(ids,end = \"\")"
   ]
  },
  {
   "cell_type": "code",
   "execution_count": 16,
   "metadata": {},
   "outputs": [
    {
     "data": {
      "text/plain": [
       "0       Vietnam\n",
       "1       Vietnam\n",
       "2       Vietnam\n",
       "3       Vietnam\n",
       "4       Vietnam\n",
       "         ...   \n",
       "7338    Vietnam\n",
       "7339    Vietnam\n",
       "7340    Vietnam\n",
       "7341    Vietnam\n",
       "7342    Vietnam\n",
       "Name: SOV0NAME, Length: 7343, dtype: object"
      ]
     },
     "execution_count": 16,
     "metadata": {},
     "output_type": "execute_result"
    }
   ],
   "source": [
    "df[\"SOV0NAME\"]"
   ]
  },
  {
   "cell_type": "code",
   "execution_count": null,
   "metadata": {},
   "outputs": [],
   "source": []
  }
 ],
 "metadata": {
  "kernelspec": {
   "display_name": "Python 3",
   "language": "python",
   "name": "python3"
  },
  "language_info": {
   "codemirror_mode": {
    "name": "ipython",
    "version": 3
   },
   "file_extension": ".py",
   "mimetype": "text/x-python",
   "name": "python",
   "nbconvert_exporter": "python",
   "pygments_lexer": "ipython3",
   "version": "3.7.6"
  }
 },
 "nbformat": 4,
 "nbformat_minor": 2
}
