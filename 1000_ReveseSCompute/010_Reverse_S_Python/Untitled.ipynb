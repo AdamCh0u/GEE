{
 "cells": [
  {
   "cell_type": "code",
   "execution_count": 14,
   "metadata": {},
   "outputs": [],
   "source": [
    "import ee\n",
    "import os\n",
    "os.environ['HTTP_PROXY'] = 'http://127.0.0.1:10809'\n",
    "os.environ['HTTPS_PROXY'] = 'http://127.0.0.1:10809'\n",
    "ee.Initialize()"
   ]
  },
  {
   "cell_type": "code",
   "execution_count": 15,
   "metadata": {},
   "outputs": [
    {
     "data": {
      "text/plain": [
       "{'type': 'Image',\n",
       " 'bands': [{'id': 'b1',\n",
       "   'data_type': {'type': 'PixelType', 'precision': 'float'},\n",
       "   'dimensions': [7423, 7422],\n",
       "   'crs': 'EPSG:4326',\n",
       "   'crs_transform': [0.00026949458520813673,\n",
       "    0,\n",
       "    119.99974043,\n",
       "    0,\n",
       "    -0.00026949458515225023,\n",
       "    32.000056545]}],\n",
       " 'version': 1579252279594034,\n",
       " 'id': 'users/zhouzz400/Shanghai_GAIA',\n",
       " 'properties': {'system:footprint': {'type': 'LinearRing',\n",
       "   'coordinates': [[122.00006361114706, 29.999732514115895],\n",
       "    [122.00037575304837, 29.999941286381215],\n",
       "    [122.00038234636406, 32.00019142746774],\n",
       "    [121.75004037788288, 32.00019173098654],\n",
       "    [121.50001676829154, 32.00019173586722],\n",
       "    [121.2499931843062, 32.0001917783718],\n",
       "    [120.99996956486632, 32.00019179624761],\n",
       "    [120.74994599898282, 32.000191720171685],\n",
       "    [120.49992237994444, 32.00019172693802],\n",
       "    [120.24989875961452, 32.00019175432418],\n",
       "    [119.99955686422183, 32.000191443696266],\n",
       "    [119.99956347922142, 29.99973219846899],\n",
       "    [120.24989875961452, 29.99973249393043],\n",
       "    [120.49992237994444, 29.999732493201098],\n",
       "    [120.74994599898282, 29.9997324802969],\n",
       "    [120.99996956486632, 29.999732511898852],\n",
       "    [121.2499931843062, 29.999732488789196],\n",
       "    [121.50001676829154, 29.99973248437487],\n",
       "    [121.75004037788288, 29.999732493203556],\n",
       "    [122.00006361114706, 29.999732514115895]]},\n",
       "  'system:asset_size': 27923459}}"
      ]
     },
     "execution_count": 15,
     "metadata": {},
     "output_type": "execute_result"
    }
   ],
   "source": [
    "img = ee.Image(\"users/zhouzz400/Shanghai_GAIA\")\n",
    "ee.Image(img).getInfo()"
   ]
  },
  {
   "cell_type": "code",
   "execution_count": 17,
   "metadata": {},
   "outputs": [
    {
     "ename": "ModuleNotFoundError",
     "evalue": "No module named 'ee_plugin'",
     "output_type": "error",
     "traceback": [
      "\u001b[1;31m---------------------------------------------------------------------------\u001b[0m",
      "\u001b[1;31mModuleNotFoundError\u001b[0m                       Traceback (most recent call last)",
      "\u001b[1;32m<ipython-input-17-5dfa4c0b5577>\u001b[0m in \u001b[0;36m<module>\u001b[1;34m\u001b[0m\n\u001b[1;32m----> 1\u001b[1;33m \u001b[1;32mfrom\u001b[0m \u001b[0mee_plugin\u001b[0m \u001b[1;32mimport\u001b[0m \u001b[0mMap\u001b[0m\u001b[1;33m\u001b[0m\u001b[1;33m\u001b[0m\u001b[0m\n\u001b[0m\u001b[0;32m      2\u001b[0m \u001b[0mMap\u001b[0m\u001b[1;33m.\u001b[0m\u001b[0maddLayer\u001b[0m\u001b[1;33m(\u001b[0m\u001b[0mimage\u001b[0m\u001b[1;33m,\u001b[0m \u001b[1;33m{\u001b[0m\u001b[1;33m}\u001b[0m\u001b[1;33m)\u001b[0m\u001b[1;33m\u001b[0m\u001b[1;33m\u001b[0m\u001b[0m\n",
      "\u001b[1;31mModuleNotFoundError\u001b[0m: No module named 'ee_plugin'"
     ]
    }
   ],
   "source": [
    "addLayer(image, {})"
   ]
  },
  {
   "cell_type": "code",
   "execution_count": null,
   "metadata": {},
   "outputs": [],
   "source": []
  }
 ],
 "metadata": {
  "kernelspec": {
   "display_name": "Python 3",
   "language": "python",
   "name": "python3"
  },
  "language_info": {
   "codemirror_mode": {
    "name": "ipython",
    "version": 3
   },
   "file_extension": ".py",
   "mimetype": "text/x-python",
   "name": "python",
   "nbconvert_exporter": "python",
   "pygments_lexer": "ipython3",
   "version": "3.7.4"
  }
 },
 "nbformat": 4,
 "nbformat_minor": 2
}
